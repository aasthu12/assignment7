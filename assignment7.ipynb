{
 "cells": [
  {
   "cell_type": "code",
   "execution_count": 4,
   "id": "eb461316",
   "metadata": {},
   "outputs": [
    {
     "name": "stdout",
     "output_type": "stream",
     "text": [
      "Addition : 20+10=30\n",
      "Subtraction : 20-10=10\n",
      "Multiplication : 20*10=200\n",
      "Division : 20/10=2.0\n"
     ]
    }
   ],
   "source": [
    "'''Q1. Create two int type variables, apply addition, subtraction, division and multiplications\n",
    "and store the results in variables. Then print the data in the following format by calling the\n",
    "variables:\n",
    "\n",
    "First variable is __ & second variable is __.\n",
    "Addition: __ + __ = __\n",
    "Subtraction: __ - __ = __\n",
    "Multiplication: __ * __ = __\n",
    "Division: __ / __ = __\n",
    "'''\n",
    "\n",
    "a=20\n",
    "b=10\n",
    "sum=a+b\n",
    "diff=a-b\n",
    "product=a*b\n",
    "div=a/b\n",
    "\n",
    "print(f\"Addition : {a}+{b}={sum}\")\n",
    "print(f\"Subtraction : {a}-{b}={diff}\")\n",
    "print(f\"Multiplication : {a}*{b}={product}\")\n",
    "print(f\"Division : {a}/{b}={div}\")"
   ]
  },
  {
   "cell_type": "code",
   "execution_count": 5,
   "id": "89b13181",
   "metadata": {},
   "outputs": [
    {
     "name": "stdout",
     "output_type": "stream",
     "text": [
      "14\n"
     ]
    }
   ],
   "source": [
    "'''Q.2. What is the difference between the following operators:\n",
    "(i) ‘/’ & ‘//’\n",
    "(ii) ‘**’ & ‘^’\n",
    "\n",
    "A2     '/'' is used for finding the quotient and '//' is used for finding the quotient rounded off to the nearest integer. \n",
    "For example - 11/2=10.5 but 11//2=10\n",
    "\n",
    "\n",
    "**is used as an exponential operator in python. For example 4**2=16 . However ^ is used as a bitwise XOR operator. it performs \n",
    "the XOR operation on each pair of corresponding bits of 2 integers .'''\n",
    "\n",
    "a=7\n",
    "b=9\n",
    "c=a^b\n",
    "print(c)"
   ]
  },
  {
   "cell_type": "code",
   "execution_count": null,
   "id": "65d1ecfd",
   "metadata": {},
   "outputs": [],
   "source": [
    "'''Q3.List the logical operators.\n",
    "A3-   These are the following logical operators\n",
    "\n",
    "and - returns true if both the operands are true\n",
    "or  - returns true if anyone of the operands are true\n",
    "not - returns the opposite value. if the operand is true , it will return false and vice varsa '''"
   ]
  },
  {
   "cell_type": "code",
   "execution_count": 8,
   "id": "85bea314",
   "metadata": {},
   "outputs": [
    {
     "name": "stdout",
     "output_type": "stream",
     "text": [
      "3\n",
      "76\n"
     ]
    }
   ],
   "source": [
    "'''Q.4. Explain right shift operator and left shift operator with examples.\n",
    "The right and left shift operators are used to shift the binary digits of the number by the specified number of positions. \n",
    "For example'''\n",
    "num=13   #binary = 1101\n",
    "print (num>>2) #returns 3 as binary of 3 is 11\n",
    "num1=19 #binary = 10011\n",
    "print (num1<<2) #retuns 76 as binary of 76 is 1001100"
   ]
  },
  {
   "cell_type": "code",
   "execution_count": 11,
   "id": "6a7b6be4",
   "metadata": {},
   "outputs": [
    {
     "name": "stdout",
     "output_type": "stream",
     "text": [
      "10 is present at 10 position\n"
     ]
    }
   ],
   "source": [
    "'''Q.5. Create a list containing int type data of length 15. Then write a code to check if 10 is\n",
    "present in the list or not.'''\n",
    "\n",
    "\n",
    "l1=[1,2,3,4,5,6,7,8,9,10,11,12,13,14,15,16]\n",
    "for i in l1:\n",
    "    if i==10:\n",
    "        print (f\"10 is present at {i} position\")\n",
    "    else:\n",
    "        pass"
   ]
  },
  {
   "cell_type": "code",
   "execution_count": null,
   "id": "2da64bfe",
   "metadata": {},
   "outputs": [],
   "source": []
  },
  {
   "cell_type": "code",
   "execution_count": null,
   "id": "17b35ded",
   "metadata": {},
   "outputs": [],
   "source": []
  }
 ],
 "metadata": {
  "kernelspec": {
   "display_name": "Python 3 (ipykernel)",
   "language": "python",
   "name": "python3"
  },
  "language_info": {
   "codemirror_mode": {
    "name": "ipython",
    "version": 3
   },
   "file_extension": ".py",
   "mimetype": "text/x-python",
   "name": "python",
   "nbconvert_exporter": "python",
   "pygments_lexer": "ipython3",
   "version": "3.10.9"
  }
 },
 "nbformat": 4,
 "nbformat_minor": 5
}
